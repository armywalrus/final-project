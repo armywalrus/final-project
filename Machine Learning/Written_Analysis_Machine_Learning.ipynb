{
 "cells": [
  {
   "cell_type": "markdown",
   "metadata": {},
   "source": [
    "# Written Analysis: Machine Learning\n",
    "\n",
    "## Question: How does where you live in the US affect your quality of life?\n",
    "\n",
    "### In this project, we attempted to use machine learning to predict factors related to quality of life. These factors included household income, poverty rate, pollution data, and Medicare data. With the Medicare data, we focused on preventative care, such as participation in Part B, ambulatory visits, and diagnostic tests.\n",
    "\n",
    "### We conducted our project using a linear model. Over the course of the project we tested various output variables and features, to see which would enable us to best predict the quality of a person's life. \n",
    "\n",
    "### Output variables were chosen as indications of quality of life - for example, we looked at participation in Medicare Part B. We wanted to see if we could use factors such as household incomes to predict Part B participation. \n",
    "\n",
    "#### Medicare Part B is optional, and costs a monthly premium when used. It covers preventative care, such as doctor visits and diagnostic tests. Compared to Part A, which is automatic, costs no extra money out of pocket, and is mainly for emergencies, our theory was that a higher particpation in Part B would indicate a person's overall quality of life is higher, due to being able to afford it, and being able to prevent medical issues. "
   ]
  },
  {
   "cell_type": "markdown",
   "metadata": {},
   "source": [
    "## Trials\n",
    "\n",
    "### For each trial, we used a SVC (support vector classifier) model, and changed either the output variable, the features, or both, to see which data would give us the best predictions. Each trial involved the following steps:\n",
    "\n",
    "1. Assigning features - we assigned the data we wished to use to predict our output to the features.\n",
    "2. Assigning our output variable to \"y\" - we assigned the data we wanted to be able to predict to our \"y\" value.\n",
    "3. Splitting our data into training data and testing data using the train/test/split.\n",
    "4. Using the standard scaler to scale our data.\n",
    "5. Training the model.\n",
    "6. Calculate a classification report to see if our data was likely to be effective at predicting our output variable.\n",
    "7. Idenfitying the most signifcant features for our chosen output variable (on some trials) when the classification report shows low precision scores.\n",
    "\n",
    "\n",
    "### Trial 1: Comparing Household Income and Population to Medicare Part B Beneficiaries\n",
    "For our first trial, we wanted to see if we could predict participation in Part B, our output variable, by using the features of household income and population. Our theory was that the higher the household income and population, the higher participation in Part B would be, indicating a higher quality of life.\n",
    "\n",
    "We used the classification report to gauge the effectiveness of our chosen data at making our desired prediction, and saw that the majority of \"precision\" scores were 0.00. We then determinded the importance of our features, so we could change to the highest-rated ones and try again in Trial 2.\n",
    "\n",
    "### Trial 2: Comparing Ambulatory Discharges and Ambulatory Visits to Medicare Part B Beneficiaries\n",
    "For our second trial, we adjusted the features to see if we could predict participation in Part B, our output variable, by using the features of ambulatory discharges and ambulatory visits. We discovered these to be the most significant features in our datasets.  Our theory was that the higher the household income and population, the higher participation in Part B would be, indicating a higher quality of life.\n",
    "\n",
    "We used the classification report to gauge the effectiveness of our chosen data at making our desired prediction, and saw that the majority of \"precision\" scores had improved to 1.00, emaning our chosen data would be ffective at making our desired prediction. Since both features used and our output variable were all from the same Medicare dataset, we decided to try again using different features pulled from our census data and our pollution data in Trial 3.\n",
    "\n",
    "### Trial 3: Comparing Pollutants (Nitrogen Dioxide and Sulfur Dioxide) Levels to Household Income\n",
    "For our third trial, we wanted to see if we could predict household income, our output variable, by using the features of Nitrogen Dioxide and Sulfur Dioxide.  Our theory was that the higher the level of pollutants, the lower the household income would be, indicating a lower quality of life.\n",
    "\n",
    "We used the classification report to gauge the effectiveness of our chosen data at making our desired prediction, and saw that the majority of \"precision\" scores were 0.00. We then determinded the importance of our features, and discovered the highest-rated features for determining income were poverty rates and population, all from the census dataset. We then decided to change our output variable and our features so Trial 4 would come from more than one of our datasets.\n",
    "\n",
    "### Trial 4: Comparing Income and Pollutants (Nitrogen Dioxide) to Poverty Rate\n",
    "For our fourth trial, we adjusted the features to see if we could predict poverty rates, our output variable (also changed), by using the features of household income and pollutants(Nitrogen Dioxide) . Our theory was that the higher the household income, and the lower the pollutants, the lower the poverty rate would be, indicating a higher quality of life.\n",
    "\n",
    "We used the classification report to gauge the effectiveness of our chosen data at making our desired prediction, and saw that the the precision scores were a mix of scores ranging from 0.00 to 1.00, with more instances of 1.00 than any other number. This indicated our chosen data would not be highly effective for making our desired predictions, so we moved on to Trial 5.\n",
    "\n",
    "### Trial 5: Comparing Income, Part B Beneficiaries, and Unhealthy Days to Poverty Rate\n",
    "For our fifth trial, we wanted to see if we could predict poverty rates, our output variable, by using the features of household income, Part B Beneficiaries, and days with so many pollutants recorded they were labeled as \"Unhealthy Days.\" Our theory was that the higher the household income, the higher the Part B participation, and the lower the rate of unhealthy days, would correlate to lower poverty rates, indicating a higher quality of life.\n",
    "\n",
    "We used the classification report to gauge the effectiveness of our chosen data at making our desired prediction, and saw that the the precision scores were a mix of scores ranging from 0.00 to 1.00, with less instances of 0.00 than any other number, most falling in betwee 0.33 and 0.75 This indicated our chosen data would not be highly effective for making our desired predictions.\n",
    "\n",
    "### Overall, we found that the trial with the highest classification scores was Trial 4. We chose this model to fine-tune using the grid search. \n",
    "\n",
    "### We then created a linear regression model with the output variable and features from Trial 4.\n",
    "We used MatPlotLib to visualize if the shown line was a good fit for out data.  The residuals express the difference between the data on the line and the actual data, so the values of the residuals will show how well the residuals represent the data. Our visualization showed as random, indicating our data was a good fit for a linear regression model."
   ]
  },
  {
   "cell_type": "code",
   "execution_count": null,
   "metadata": {},
   "outputs": [],
   "source": []
  }
 ],
 "metadata": {
  "kernelspec": {
   "display_name": "Python [conda env:PythonAdv]",
   "language": "python",
   "name": "conda-env-PythonAdv-py"
  },
  "language_info": {
   "codemirror_mode": {
    "name": "ipython",
    "version": 3
   },
   "file_extension": ".py",
   "mimetype": "text/x-python",
   "name": "python",
   "nbconvert_exporter": "python",
   "pygments_lexer": "ipython3",
   "version": "3.6.10"
  }
 },
 "nbformat": 4,
 "nbformat_minor": 4
}
